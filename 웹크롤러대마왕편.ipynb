{
 "cells": [
  {
   "cell_type": "markdown",
   "id": "7877a6ff",
   "metadata": {},
   "source": [
    "## p.43~"
   ]
  },
  {
   "cell_type": "code",
   "execution_count": 1,
   "id": "c4ccaf93",
   "metadata": {},
   "outputs": [
    {
     "name": "stdout",
     "output_type": "stream",
     "text": [
      "2\n"
     ]
    }
   ],
   "source": [
    "# input() 함수로 정보 입력받기\n",
    "\n",
    "txt1 = input()"
   ]
  },
  {
   "cell_type": "code",
   "execution_count": 2,
   "id": "01803907",
   "metadata": {},
   "outputs": [
    {
     "name": "stdout",
     "output_type": "stream",
     "text": [
      "점심 뭐 드셨어용?수라상\n"
     ]
    }
   ],
   "source": [
    "txt2 = input('점심 뭐 드셨어용?')"
   ]
  },
  {
   "cell_type": "code",
   "execution_count": 3,
   "id": "a56c96c8",
   "metadata": {},
   "outputs": [
    {
     "name": "stdout",
     "output_type": "stream",
     "text": [
      "첫번째 주문하실 음식은 무엇인가요?짜장면\n",
      "두번째 주문하실 음식은 무엇인가요?짬뽕\n",
      "첫번째 주문하신 음식은 짜장면 이고 두번째 주문하신 음식은 짬뽕 입니다.\n"
     ]
    }
   ],
   "source": [
    "# 연습문제\n",
    "# 1.\n",
    "\n",
    "food1 = '짜장면'\n",
    "food2 = '짬뽕'\n",
    "\n",
    "input('첫번째 주문하실 음식은 무엇인가요?')\n",
    "input('두번째 주문하실 음식은 무엇인가요?')\n",
    "print('첫번째 주문하신 음식은 %s 이고 두번째 주문하신 음식은 %s 입니다.' %(food1, food2))"
   ]
  },
  {
   "cell_type": "code",
   "execution_count": 4,
   "id": "df516dd1",
   "metadata": {},
   "outputs": [
    {
     "name": "stdout",
     "output_type": "stream",
     "text": [
      "\n",
      "1. 서울 2. 대전 3. 광주 4. 부산\n",
      "5. 경남 6. 경북 7. 충청 8. 제주\n",
      "\n",
      "위 지역 중 정보를 조회할 지역의 번호를 입력하세요: 3\n"
     ]
    }
   ],
   "source": [
    "area_no = input('''\n",
    "1. 서울 2. 대전 3. 광주 4. 부산\n",
    "5. 경남 6. 경북 7. 충청 8. 제주\n",
    "\n",
    "위 지역 중 정보를 조회할 지역의 번호를 입력하세요: ''')"
   ]
  },
  {
   "cell_type": "code",
   "execution_count": 5,
   "id": "cce76142",
   "metadata": {},
   "outputs": [
    {
     "name": "stdout",
     "output_type": "stream",
     "text": [
      "\n",
      "1. 짜장면 2. 울면 3. 짬뽕 4. 깐풍기 5. 칠리새우\n",
      "\n",
      "1. 위 메뉴 중 주문할 메뉴의 번호를 입력하세요 : 3\n",
      "2. 위 메뉴의 주문 수량을 입력하세요 : 2\n",
      "주문하신 메뉴 번호는 3 이고 주문 수량은 2개 입니다\n"
     ]
    }
   ],
   "source": [
    "menu = input('''\n",
    "1. 짜장면 2. 울면 3. 짬뽕 4. 깐풍기 5. 칠리새우\n",
    "\n",
    "1. 위 메뉴 중 주문할 메뉴의 번호를 입력하세요 : ''')\n",
    "\n",
    "menuNum = input('''2. 위 메뉴의 주문 수량을 입력하세요 : ''')  \n",
    "\n",
    "print(f'주문하신 메뉴 번호는 {menu} 이고 주문 수량은 {menuNum}개 입니다')"
   ]
  },
  {
   "cell_type": "code",
   "execution_count": 6,
   "id": "0d786d25",
   "metadata": {},
   "outputs": [
    {
     "name": "stdout",
     "output_type": "stream",
     "text": [
      "i에 저장된 값은 2 입니다\n",
      "j 에 저장된 값은 3 입니다\n"
     ]
    }
   ],
   "source": [
    "# 연산자 사용 방법\n",
    "# Case 1\n",
    "i = 0\n",
    "i = i + 2\n",
    "print(\"i에 저장된 값은 %s 입니다\" %i)\n",
    "\n",
    "# Case 2\n",
    "j = 0\n",
    "j += 3\n",
    "print(\"j 에 저장된 값은 %s 입니다\" %j)"
   ]
  },
  {
   "cell_type": "code",
   "execution_count": 7,
   "id": "7535c3e6",
   "metadata": {},
   "outputs": [
    {
     "name": "stdout",
     "output_type": "stream",
     "text": [
      "첫번째 숫자 입력: 5\n",
      "두번째 숫자 입력: 3\n",
      "첫번째 숫자는 5 이고 두번째 숫자는 3 이며\n",
      "두 숫자의 합은 8 입니다\n"
     ]
    }
   ],
   "source": [
    "# 정수형으로 변환하기 - 변환 후\n",
    "\n",
    "no1 = int( input('첫번째 숫자 입력: ') )\n",
    "no2 = int( input('두번째 숫자 입력: ') )\n",
    "\n",
    "print('''첫번째 숫자는 %s 이고 두번째 숫자는 %s 이며\n",
    "두 숫자의 합은 %s 입니다''' %(no1, no2, no1+no2))"
   ]
  },
  {
   "cell_type": "markdown",
   "id": "16c20cea",
   "metadata": {},
   "source": [
    "## 숫자 타입에서 많이 사용되는 주요 함수 p.51~"
   ]
  },
  {
   "cell_type": "code",
   "execution_count": 8,
   "id": "61b6c7bd",
   "metadata": {},
   "outputs": [
    {
     "name": "stdout",
     "output_type": "stream",
     "text": [
      "원래값 : 3.45678 , 반올림후 값: 3\n",
      "원래값 : 3.56789 , 반올림후 값: 4\n"
     ]
    }
   ],
   "source": [
    "#a) round() - 반올림 함수\n",
    "\n",
    "no1 = 3.45678\n",
    "no2 = 3.56789\n",
    "print(\"원래값 : %s , 반올림후 값: %s\" %(no1, round(no1) ) )\n",
    "print(\"원래값 : %s , 반올림후 값: %s\" %(no2, round(no2) ) )"
   ]
  },
  {
   "cell_type": "code",
   "execution_count": 9,
   "id": "f77c8096",
   "metadata": {},
   "outputs": [
    {
     "name": "stdout",
     "output_type": "stream",
     "text": [
      "반올림하기 전 원래값: 1.6666666666666667\n",
      "소수 첫째자리까지 반올림하기: 1.7\n",
      "소수 둘째자리까지 반올림하기: 1.67\n"
     ]
    }
   ],
   "source": [
    "#a round() - 반올림 함수의 소수점 이하 자리수 지정\n",
    "\n",
    "no1 = 3\n",
    "no2 = 5\n",
    "print(\"반올림하기 전 원래값:\", no2 / no1)\n",
    "print(\"소수 첫째자리까지 반올림하기:\", round(no2 / no1,1) )\n",
    "print(\"소수 둘째자리까지 반올림하기:\", round(no2 / no1,2) )"
   ]
  },
  {
   "cell_type": "code",
   "execution_count": 10,
   "id": "77a62979",
   "metadata": {},
   "outputs": [
    {
     "name": "stdout",
     "output_type": "stream",
     "text": [
      "버림하기 전 원래 값 1.6666666666666667\n",
      "소수 첫째자리까지 버림하기 1\n"
     ]
    }
   ],
   "source": [
    "#b trunc() - 버림 함수\n",
    "import math\n",
    "\n",
    "no1 = 3\n",
    "no2 = 5\n",
    "print(\"버림하기 전 원래 값\", no2 / no1)\n",
    "print(\"소수 첫째자리까지 버림하기\", math.trunc(no2 / no1) )"
   ]
  },
  {
   "cell_type": "code",
   "execution_count": 11,
   "id": "67097f97",
   "metadata": {},
   "outputs": [
    {
     "name": "stdout",
     "output_type": "stream",
     "text": [
      "총 몇 건의 데이터를 수집할까요? :10\n",
      "총 1 페이지까지 데이터를 수집해야 합니다\n"
     ]
    }
   ],
   "source": [
    "#c ceil() - 큰 정수 찾기 함수\n",
    "\n",
    "cnt = int( input(\"총 몇 건의 데이터를 수집할까요? :\") )\n",
    "# 한 페이지에 15건의 게시물이 있다고 가정하고 계산합니다.\n",
    "page_cnt = math.ceil( cnt / 15 )\n",
    "print(\"총 %s 페이지까지 데이터를 수집해야 합니다\" %page_cnt)"
   ]
  },
  {
   "cell_type": "code",
   "execution_count": 13,
   "id": "185d14ef",
   "metadata": {},
   "outputs": [
    {
     "name": "stdout",
     "output_type": "stream",
     "text": [
      "4.9 보다 작으면서 가장 가까운 정수는 4 입니다\n",
      "4.1 보다 작으면서 가장 가까운 정수는 4 입니다\n"
     ]
    }
   ],
   "source": [
    "# 숫자 타입에서 많이 사용되는 주요 함수\n",
    "#d floor() - 작은 정수 찾기 함수\n",
    "import math\n",
    "\n",
    "no1 = 4.9\n",
    "no2 = 4.1\n",
    "\n",
    "print(\"%s 보다 작으면서 가장 가까운 정수는 %s 입니다\" %(no1, math.floor(no1)))\n",
    "print(\"%s 보다 작으면서 가장 가까운 정수는 %s 입니다\" %(no2, math.floor(no2)))      "
   ]
  },
  {
   "cell_type": "code",
   "execution_count": 15,
   "id": "73a12b9e",
   "metadata": {},
   "outputs": [
    {
     "name": "stdout",
     "output_type": "stream",
     "text": [
      "파이썬완전쉽죠?\n",
      "파\n",
      "이\n"
     ]
    }
   ],
   "source": [
    "#2. 문자형 유형\n",
    "# 2) 인덱싱과 슬라이싱\n",
    "\n",
    "str1 = '파이썬완전쉽죠?'\n",
    "print(str1)\n",
    "print(str1[0])\n",
    "print(str1[1])"
   ]
  },
  {
   "cell_type": "code",
   "execution_count": 16,
   "id": "ec0412f0",
   "metadata": {},
   "outputs": [
    {
     "name": "stdout",
     "output_type": "stream",
     "text": [
      "파이썬완전쉽죠?\n",
      "파이썬완\n"
     ]
    }
   ],
   "source": [
    "# 슬라이싱 예제\n",
    "\n",
    "str1 ='파이썬완전쉽죠?'\n",
    "print(str1)\n",
    "\n",
    "print(str1[0:4])"
   ]
  },
  {
   "cell_type": "code",
   "execution_count": 17,
   "id": "4810b98a",
   "metadata": {},
   "outputs": [
    {
     "name": "stdout",
     "output_type": "stream",
     "text": [
      " 완전 쉽죠?\n",
      "파이썬\n"
     ]
    }
   ],
   "source": [
    "# 슬라이싱 예제 2\n",
    "\n",
    "str1 = '파이썬 완전 쉽죠?'\n",
    "\n",
    "print(str1[3:])\n",
    "print(str1[:3])"
   ]
  },
  {
   "cell_type": "markdown",
   "id": "2e308f74",
   "metadata": {},
   "source": [
    "##### 인덱싱과 슬라이싱은 나중에 크롤러 만들때 웹사이트 주소나 파일명 등을 뽑아낼 때 아주 많이 사용"
   ]
  },
  {
   "cell_type": "code",
   "execution_count": 18,
   "id": "3e52a9fd",
   "metadata": {},
   "outputs": [
    {
     "name": "stdout",
     "output_type": "stream",
     "text": [
      "python\n",
      "PYTHON\n"
     ]
    }
   ],
   "source": [
    "# [ lower() 함수 / upper() 함수]\n",
    "# 입력 문자를 소문자/대문자 바꾸기\n",
    "\n",
    "str2 = \"PyThoN\" # 대소문자 섞여 있음\n",
    "print(str2.lower())\n",
    "print(str2.upper())"
   ]
  },
  {
   "cell_type": "code",
   "execution_count": 19,
   "id": "cacdabc4",
   "metadata": {},
   "outputs": [
    {
     "name": "stdout",
     "output_type": "stream",
     "text": [
      "<- 이쪽 끝에 공백 있었어요\n",
      "오른쪽 끝에 공백 있었어요->\n",
      "<- 양쪽 끝에 공백 있었어요->\n"
     ]
    }
   ],
   "source": [
    "# [ lstrip() / rstrip() / strip() ]\n",
    "# 문자열에서 좌/우 공백 제거하기\n",
    "\n",
    "str3 = \"    <- 이쪽 끝에 공백 있었어요\"\n",
    "str4 = \"오른쪽 끝에 공백 있었어요->    \"\n",
    "str5 = \"    <- 양쪽 끝에 공백 있었어요->   \"\n",
    "\n",
    "print( str3.lstrip() )\n",
    "print( str4.rstrip() )\n",
    "print( str5.strip() )"
   ]
  },
  {
   "cell_type": "code",
   "execution_count": 21,
   "id": "07b9a0eb",
   "metadata": {},
   "outputs": [
    {
     "name": "stdout",
     "output_type": "stream",
     "text": [
      "먹태깡도 해산물 인가요?\n"
     ]
    }
   ],
   "source": [
    "#[ replace() ]\n",
    "str6 = '새우깡도 해산물 인가요?'\n",
    "print(str6.replace('새우깡', '먹태깡'))"
   ]
  },
  {
   "cell_type": "markdown",
   "id": "3cf368c4",
   "metadata": {},
   "source": [
    "위 함수는 웹크롤러 만들 때 특정 기호나 문자를 제거할 때 아주 많이 사용!"
   ]
  },
  {
   "cell_type": "code",
   "execution_count": 22,
   "id": "fd65a907",
   "metadata": {},
   "outputs": [
    {
     "name": "stdout",
     "output_type": "stream",
     "text": [
      "['02', '1234', '5678']\n",
      "['02', '1234-5678']\n"
     ]
    }
   ],
   "source": [
    "# [ split() ]\n",
    "\n",
    "tel = '02-1234-5678'\n",
    "print(tel.split('-'))\n",
    "print(tel.split('-',1))"
   ]
  },
  {
   "cell_type": "markdown",
   "id": "8556ff07",
   "metadata": {},
   "source": [
    "위 함수는 웹크롤러 만들 때 URL 주소를 찾을 때 아주 많이 사용!"
   ]
  },
  {
   "cell_type": "code",
   "execution_count": 23,
   "id": "f4dff0c3",
   "metadata": {},
   "outputs": [
    {
     "name": "stdout",
     "output_type": "stream",
     "text": [
      "10\n",
      "3\n"
     ]
    }
   ],
   "source": [
    "#[ len() ]\n",
    "\n",
    "str1 = '파이썬 완전 좋아요'\n",
    "str2 = ['파이썬', '웹크롤러', '가치랩스']\n",
    "\n",
    "print(len(str1))\n",
    "print(len(str2))"
   ]
  },
  {
   "cell_type": "markdown",
   "id": "992fe824",
   "metadata": {},
   "source": [
    "리스트에 있는 항목의 개수(행의 수)도 len()함수로 확인"
   ]
  },
  {
   "cell_type": "code",
   "execution_count": 1,
   "id": "5166c98e",
   "metadata": {},
   "outputs": [
    {
     "name": "stdout",
     "output_type": "stream",
     "text": [
      "================================================================================\n",
      "문자열로 연산하기 실습\n",
      "++++++++++++++++++++++++++++++++++++++++++++++++++++++++++++++++++++++++++++++++\n"
     ]
    }
   ],
   "source": [
    "# 문자열로 환산하기\n",
    "\n",
    "print(\"=\" *80)\n",
    "print(\"문자열로 연산하기 실습\")\n",
    "print(\"+\" *80)"
   ]
  },
  {
   "cell_type": "markdown",
   "id": "05fd5c1d",
   "metadata": {},
   "source": [
    "주석이나 특정표시 할 때 많이 사용!"
   ]
  },
  {
   "cell_type": "markdown",
   "id": "ec3dd20a-0726-435d-b230-81f1cefacb32",
   "metadata": {},
   "source": [
    "### p.59"
   ]
  },
  {
   "cell_type": "code",
   "execution_count": 2,
   "id": "b58435af",
   "metadata": {},
   "outputs": [
    {
     "name": "stdout",
     "output_type": "stream",
     "text": [
      "['1982-07-15', '홍길동', 30]\n"
     ]
    }
   ],
   "source": [
    "# 리스트 유형 예제\n",
    "\n",
    "list1 = ['1982-07-15', '홍길동', 30]\n",
    "print(list1)"
   ]
  },
  {
   "cell_type": "code",
   "execution_count": 1,
   "id": "a7bb877f",
   "metadata": {},
   "outputs": [
    {
     "name": "stdout",
     "output_type": "stream",
     "text": [
      "['첫째', '둘째', 'insert로 추가한 것', '셋째', 'append로 추가한 것']\n"
     ]
    }
   ],
   "source": [
    "# append() 함수 / insert() 함수\n",
    "\n",
    "list2 = ['첫째', '둘째', '셋째']\n",
    "list2.append('append로 추가한 것')\n",
    "list2.insert(2, 'insert로 추가한 것')\n",
    "print(list2)"
   ]
  },
  {
   "cell_type": "code",
   "execution_count": 2,
   "id": "9210008c",
   "metadata": {},
   "outputs": [
    {
     "name": "stdout",
     "output_type": "stream",
     "text": [
      "삭제전목록 ['첫째', '둘째', 'insert로 추가한 것', '셋째', 'append로 추가한 것']\n",
      "del로 삭제후 목록 ['첫째', '둘째', '셋째', 'append로 추가한 것']\n",
      "remove 로 삭제후 목록 ['첫째', '둘째', '셋째']\n"
     ]
    }
   ],
   "source": [
    "# [ del() 함수 / remove() 함수]\n",
    "\n",
    "print('삭제전목록', list2)\n",
    "del list2[2]\n",
    "print('del로 삭제후 목록', list2)\n",
    "\n",
    "list2.remove(\"append로 추가한 것\")\n",
    "print('remove 로 삭제후 목록', list2)"
   ]
  },
  {
   "cell_type": "code",
   "execution_count": 2,
   "id": "8f20c225",
   "metadata": {},
   "outputs": [
    {
     "name": "stdout",
     "output_type": "stream",
     "text": [
      "오름차순(기본)정렬후 [1, 2, 3, 5, 8]\n",
      "내림차순 정렬후 [8, 5, 3, 2, 1]\n",
      "영어 정렬 ['Apple', 'apple', 'banana', 'cherry']\n",
      "한글 정렬 ['김유신', '이순신', '전우치', '홍길동']\n"
     ]
    }
   ],
   "source": [
    "#[ sort()함수와 reverse()함수]\n",
    "\n",
    "list3 = [ 3, 1, 5, 8, 2]\n",
    "list3.sort()\n",
    "print('오름차순(기본)정렬후', list3)\n",
    "\n",
    "list3.reverse()\n",
    "print('내림차순 정렬후', list3)\n",
    "\n",
    "list4 = ['banana', 'apple', 'cherry', 'Apple']\n",
    "list4.sort()\n",
    "print('영어 정렬', list4)\n",
    "\n",
    "list5 = ['홍길동', '전우치', '김유신', '이순신']\n",
    "list5.sort()\n",
    "print('한글 정렬', list5)"
   ]
  },
  {
   "cell_type": "markdown",
   "id": "ad3e53ef",
   "metadata": {},
   "source": [
    "#### 연습문제"
   ]
  },
  {
   "cell_type": "code",
   "execution_count": 21,
   "id": "f8aca731",
   "metadata": {},
   "outputs": [
    {
     "name": "stdout",
     "output_type": "stream",
     "text": [
      "현재 이 과목의 수강 신청자는 ['홍길동', '일지매'] 입니다.\n",
      "목록에 추가할 첫번째 학생의 이름을 입력하세요:전우치\n",
      "전우치 학생의 신청이 완료되었습니다\n",
      "목록에 추가할 두번째 학생의 이름을 입력하세요:유관순\n",
      "유관순 학생의 신청이 완료되었습니다\n",
      "현재 이 과목의 최종 수강 신청자는 ['홍길동', '일지매', '전우치', '유관순'] 입니다\n"
     ]
    }
   ],
   "source": [
    "list6 = ['홍길동', '일지매']\n",
    "print('현재 이 과목의 수강 신청자는', list6, '입니다.')\n",
    "\n",
    "first = input('목록에 추가할 첫번째 학생의 이름을 입력하세요:')\n",
    "list6.append(first)\n",
    "print(first,'학생의 신청이 완료되었습니다')\n",
    "\n",
    "second = input('목록에 추가할 두번째 학생의 이름을 입력하세요:')\n",
    "list6.append(second)\n",
    "print(second,'학생의 신청이 완료되었습니다')\n",
    "\n",
    "print('현재 이 과목의 최종 수강 신청자는', list6, '입니다')"
   ]
  },
  {
   "cell_type": "code",
   "execution_count": 23,
   "id": "e30b9f0d",
   "metadata": {},
   "outputs": [
    {
     "name": "stdout",
     "output_type": "stream",
     "text": [
      "현재 수강 신청자는 ['홍길동', '일지매', '전우치', '유관순'] 입니다\n",
      "수강 철회하는 학생의 이름을 쓰세요:전우치\n",
      "전우치 학생의 수강 신청 철회가 완료되었습니다\n",
      "현재 이 과목의 최종 수강 신청자는 ['유관순', '일지매', '홍길동'] 입니다.\n"
     ]
    }
   ],
   "source": [
    "print('현재 수강 신청자는', list6, '입니다')\n",
    "\n",
    "third = input('수강 철회하는 학생의 이름을 쓰세요:')\n",
    "list6.remove(third)\n",
    "\n",
    "print(third,'학생의 수강 신청 철회가 완료되었습니다')\n",
    "list6.sort()\n",
    "print('현재 이 과목의 최종 수강 신청자는', list6, '입니다.')"
   ]
  },
  {
   "cell_type": "code",
   "execution_count": 20,
   "id": "04c33d1f",
   "metadata": {},
   "outputs": [
    {
     "name": "stdout",
     "output_type": "stream",
     "text": [
      "현재 이 과목의 최종 수강 신청자는 홍길동, 일지매, 유관순 입니다\n",
      "변경 전 이름을 입력하세요: 홍길동\n",
      "변경 후 이름을 입력하세요: 강감찬\n",
      "요청하신대로 홍길동 을 강감찬 (으)로 변경하였습니다.\n",
      "현재 이 과목의 최종 수강 신청자는 ['강감찬', '유관순', '일지매'] 입니다\n"
     ]
    }
   ],
   "source": [
    "stu2 = '홍길동, 일지매, 유관순'\n",
    "print('현재 이 과목의 최종 수강 신청자는', stu2, '입니다')\n",
    "\n",
    "four = input('변경 전 이름을 입력하세요: ')\n",
    "five = input('변경 후 이름을 입력하세요: ')\n",
    "\n",
    "list6.insert(0, five)\n",
    "list6.remove(four)\n",
    "print('요청하신대로', four, '을', five, '(으)로 변경하였습니다.')\n",
    "print('현재 이 과목의 최종 수강 신청자는', list6, '입니다')"
   ]
  },
  {
   "cell_type": "markdown",
   "id": "f8e12fb4",
   "metadata": {},
   "source": [
    "## p.65~ 조건문과 반복문"
   ]
  },
  {
   "cell_type": "code",
   "execution_count": 24,
   "id": "9969f25d",
   "metadata": {},
   "outputs": [
    {
     "name": "stdout",
     "output_type": "stream",
     "text": [
      "조회할 사람의 이름을 입력하세요: 홍길동\n",
      "홍길동 입니다\n",
      "남자입니다\n",
      "활빈당 총수입니다\n"
     ]
    }
   ],
   "source": [
    "# Part 2_4, 조건문과 반복문 활용하기\n",
    "\n",
    "# 예제 1\n",
    "name = input('조회할 사람의 이름을 입력하세요: ')\n",
    "\n",
    "if name == '홍길동' :\n",
    "    print('홍길동 입니다')\n",
    "    print('남자입니다')\n",
    "    print('활빈당 총수입니다')"
   ]
  },
  {
   "cell_type": "code",
   "execution_count": 27,
   "id": "37eb9094",
   "metadata": {},
   "outputs": [
    {
     "name": "stdout",
     "output_type": "stream",
     "text": [
      "조회할 사람의 이름을 입력하세요 : 일지매\n",
      "홍길동이 아니고 일지매 입니다\n",
      "남자인가요?\n",
      "여자인가요?\n"
     ]
    }
   ],
   "source": [
    "# 예제 3\n",
    "name = input('조회할 사람의 이름을 입력하세요 : ')\n",
    "\n",
    "if name == '홍길동' :\n",
    "    print('홍길동 입니다')\n",
    "    print('남자입니다')\n",
    "    print('활빈당 총수입니다')\n",
    "else :\n",
    "    print('홍길동이 아니고 %s 입니다' %name)\n",
    "    print('남자인가요?')\n",
    "    print('여자인가요?')    "
   ]
  },
  {
   "cell_type": "code",
   "execution_count": 31,
   "id": "bb4d0f90",
   "metadata": {},
   "outputs": [
    {
     "name": "stdout",
     "output_type": "stream",
     "text": [
      "점수를 입력하세요: 81\n",
      " B 등급입니다 \n"
     ]
    }
   ],
   "source": [
    "# 예제 4\n",
    "\n",
    "jumsu = int(input('점수를 입력하세요: '))\n",
    "\n",
    "if jumsu >= 91 and jumsu <= 100 :\n",
    "    print(' A 등급입니다 ')\n",
    "elif jumsu >= 81 and jumsu <= 90 :\n",
    "    print(' B 등급입니다 ')\n",
    "elif jumsu >= 71 and jumsu <= 80 :\n",
    "    print(' C 등급입니다 ')\n",
    "else :\n",
    "    print(' D 등급입니다')"
   ]
  },
  {
   "cell_type": "code",
   "execution_count": 32,
   "id": "ea7f329b",
   "metadata": {},
   "outputs": [
    {
     "name": "stdout",
     "output_type": "stream",
     "text": [
      "점수를 입력하세요: 99\n",
      " A 등급입니다 \n"
     ]
    }
   ],
   "source": [
    "# 예제 5\n",
    "\n",
    "jumsu = int(input('점수를 입력하세요: '))\n",
    "\n",
    "if jumsu >= 91 & jumsu <= 100 :\n",
    "    print(' A 등급입니다 ')\n",
    "elif jumsu >= 81 & jumsu <= 90 :\n",
    "    print(' B 등급입니다 ')\n",
    "elif jumsu >= 71 & jumsu <= 80 :\n",
    "    print(' C 등급입니다 ')\n",
    "else :\n",
    "    print(' D 등급입니다')"
   ]
  },
  {
   "cell_type": "code",
   "execution_count": 34,
   "id": "eb2c701d",
   "metadata": {},
   "outputs": [
    {
     "name": "stdout",
     "output_type": "stream",
     "text": [
      "Y 또는 y를 입력하세요: n\n",
      "Y 또는 y를 입력하세요\n"
     ]
    }
   ],
   "source": [
    "# 예제 6\n",
    "answer = input('Y 또는 y를 입력하세요: ')\n",
    "if answer == 'Y' or answer == 'y' :\n",
    "    print('입력하신 문자는 %s입니다' %answer)\n",
    "else :\n",
    "    print('Y 또는 y를 입력하세요')"
   ]
  },
  {
   "cell_type": "code",
   "execution_count": 37,
   "id": "bac9a470",
   "metadata": {},
   "outputs": [
    {
     "name": "stdout",
     "output_type": "stream",
     "text": [
      "Y 또는 y를 입력하세요: N\n",
      "입력하신 문자는 N입니다\n"
     ]
    }
   ],
   "source": [
    "# 예제 7\n",
    "answer = input('Y 또는 y를 입력하세요: ')\n",
    "if answer != 'Y' and answer != 'y' :\n",
    "    print('입력하신 문자는 %s입니다'%answer)\n",
    "else :\n",
    "    print('Y또는 y를 입력하셨군용~')"
   ]
  },
  {
   "cell_type": "markdown",
   "id": "1e5c9531",
   "metadata": {},
   "source": [
    "#### 연습문제"
   ]
  },
  {
   "cell_type": "code",
   "execution_count": 46,
   "id": "d9a3e2cf",
   "metadata": {},
   "outputs": [
    {
     "name": "stdout",
     "output_type": "stream",
     "text": [
      "숫자를 입력하세요: 465\n",
      "입력한 숫자는 3의 배수랍니다. 제곱을 출력합니다 216225\n"
     ]
    }
   ],
   "source": [
    "# 문제 1\n",
    "no1 = int(input('숫자를 입력하세요: '))\n",
    "if no1 % 3 == 0 :\n",
    "    no1 = no1*no1\n",
    "    print('입력한 숫자는 3의 배수랍니다. 제곱을 출력합니다', no1)\n",
    "else :\n",
    "    print('입력한 숫자는 3의 배수가 아니네요', 0)"
   ]
  },
  {
   "cell_type": "code",
   "execution_count": 52,
   "id": "8c8cd5fc",
   "metadata": {},
   "outputs": [
    {
     "name": "stdout",
     "output_type": "stream",
     "text": [
      "사과, 감, 귤 중에 어떤 과일 좋아하세요?: 고구마\n",
      "고구마? 사과나 감, 귤 중에서 하나를 입력하라고 했잖아요\n"
     ]
    }
   ],
   "source": [
    "# 문제 2\n",
    "fruits = input('사과, 감, 귤 중에 어떤 과일 좋아하세요?: ')\n",
    "if fruits == '사과':\n",
    "    print('GOOD~')\n",
    "elif fruits == '감' :\n",
    "    print('Very GOOD~')\n",
    "elif fruits == '귤' :\n",
    "    print('so so...')\n",
    "else :\n",
    "    print('%s? 사과나 감, 귤 중에서 하나를 입력하라고 했잖아요'%fruits)"
   ]
  },
  {
   "cell_type": "code",
   "execution_count": 55,
   "id": "17b6e1cf",
   "metadata": {},
   "outputs": [
    {
     "name": "stdout",
     "output_type": "stream",
     "text": [
      "사과, 감, 귤 중에 어떤 과일 좋아하세요?: 복숭아\n",
      "GOOD~\n"
     ]
    }
   ],
   "source": [
    "# 문제 3\n",
    "fruits = input('사과, 감, 귤 중에 어떤 과일 좋아하세요?: ')\n",
    "if fruits == '사과' or fruits == '감':\n",
    "    print('Very GOOD~')\n",
    "elif fruits == '귤' or fruits == '복숭아' :\n",
    "    print('GOOD~')\n",
    "else :\n",
    "    print('%s? 사과나 감, 귤, 복숭아 중에서 하나를 입력하라고 했잖아요'%fruits)"
   ]
  },
  {
   "cell_type": "code",
   "execution_count": 66,
   "id": "4cca28e1",
   "metadata": {},
   "outputs": [
    {
     "name": "stdout",
     "output_type": "stream",
     "text": [
      "1. 짜장면 - 5,000원 2. 짬뽕 - 6,000원\n",
      "3. 군만두 - 8,000원 4. 탕수육 - 10,000원\n",
      "1. 위 메뉴 중 주문할 메뉴의 번호를 쓰세요: 3\n",
      "2. 위 메뉴의 주문 수량을 쓰세요: 2\n",
      "주문하신 메뉴는 군만두 이고 주문 수량은 2 그릇이며 주문금액은 16000 입니다\n"
     ]
    }
   ],
   "source": [
    "# 문제 4\n",
    "print('1. 짜장면 - 5,000원 2. 짬뽕 - 6,000원')\n",
    "print('3. 군만두 - 8,000원 4. 탕수육 - 10,000원')\n",
    "\n",
    "menu1 = int(input('1. 위 메뉴 중 주문할 메뉴의 번호를 쓰세요: '))\n",
    "menu2 = int(input('2. 위 메뉴의 주문 수량을 쓰세요: '))\n",
    "price = 0\n",
    "\n",
    "if menu1 == 1 :\n",
    "    menu_name = '짜장면'\n",
    "    price = 5000\n",
    "    result = menu2 * price\n",
    "elif menu1 == 2 :\n",
    "    menu_name = '짬뽕'\n",
    "    price = 6000\n",
    "    result = menu2 * price\n",
    "elif menu1 == 3 :\n",
    "    menu_name = '군만두'\n",
    "    price = 8000\n",
    "    result = menu2 * price\n",
    "else :\n",
    "    menu_name = '탕수육'\n",
    "    price = 10000\n",
    "    result = menu2 * price\n",
    "\n",
    "print('주문하신 메뉴는', menu_name,'이고 주문 수량은', menu2,'그릇이며 주문금액은', result, '입니다')"
   ]
  },
  {
   "cell_type": "markdown",
   "id": "11f30c04",
   "metadata": {},
   "source": [
    "지피티의 답안"
   ]
  },
  {
   "cell_type": "code",
   "execution_count": 67,
   "id": "878d0cf1",
   "metadata": {},
   "outputs": [
    {
     "name": "stdout",
     "output_type": "stream",
     "text": [
      "1. 짜장면 - 5,000원 2. 짬뽕 - 6,000원\n",
      "3. 군만두 - 8,000원 4. 탕수육 - 10,000원\n",
      "주문할 메뉴의 번호를 입력하세요: 1\n",
      "주문 수량을 입력하세요: 2\n",
      "주문하신 메뉴는 짜장면이고 주문 수량은 2그릇이며 주문금액은 10000원 입니다\n"
     ]
    }
   ],
   "source": [
    "# 메뉴와 가격을 딕셔너리로 정의\n",
    "menu = {\n",
    "    1: {'name': '짜장면', 'price': 5000},\n",
    "    2: {'name': '짬뽕', 'price': 6000},\n",
    "    3: {'name': '군만두', 'price': 8000},\n",
    "    4: {'name': '탕수육', 'price': 10000}\n",
    "}\n",
    "\n",
    "# 메뉴 출력\n",
    "print('1. 짜장면 - 5,000원 2. 짬뽕 - 6,000원')\n",
    "print('3. 군만두 - 8,000원 4. 탕수육 - 10,000원')\n",
    "\n",
    "# 주문 정보 입력\n",
    "menu_num = int(input('주문할 메뉴의 번호를 입력하세요: '))\n",
    "quantity = int(input('주문 수량을 입력하세요: '))\n",
    "\n",
    "# 입력된 번호로 메뉴와 가격을 가져옴\n",
    "selected_menu = menu.get(menu_num)\n",
    "\n",
    "if selected_menu:\n",
    "    menu_name = selected_menu['name']\n",
    "    price = selected_menu['price']\n",
    "    total_price = price * quantity\n",
    "    print(f'주문하신 메뉴는 {menu_name}이고 주문 수량은 {quantity}그릇이며 주문금액은 {total_price}원 입니다')\n",
    "else:\n",
    "    print('잘못된 메뉴 번호입니다.')"
   ]
  },
  {
   "cell_type": "markdown",
   "id": "48a26ea6",
   "metadata": {},
   "source": [
    "#### for 반복문 (p.73)"
   ]
  },
  {
   "cell_type": "code",
   "execution_count": 68,
   "id": "43e70658",
   "metadata": {},
   "outputs": [
    {
     "name": "stdout",
     "output_type": "stream",
     "text": [
      "1\n",
      "2\n",
      "3\n"
     ]
    }
   ],
   "source": [
    "# 예제 9\n",
    "\n",
    "for i in (1, 2, 3) :\n",
    "    print(i)"
   ]
  },
  {
   "cell_type": "code",
   "execution_count": 71,
   "id": "09eac50a",
   "metadata": {},
   "outputs": [
    {
     "name": "stdout",
     "output_type": "stream",
     "text": [
      "하나\n",
      "둘\n",
      "셋\n",
      "하나\n",
      "둘\n",
      "셋\n"
     ]
    }
   ],
   "source": [
    "# 예제 10\n",
    "\n",
    "for i in ('하나', '둘', '셋') :\n",
    "    print(i)\n",
    "    \n",
    "data = [\"하나\", \"둘\", \"셋\"]\n",
    "for i in data :\n",
    "    print(i)"
   ]
  },
  {
   "cell_type": "code",
   "execution_count": 72,
   "id": "97cf5848",
   "metadata": {},
   "outputs": [
    {
     "name": "stdout",
     "output_type": "stream",
     "text": [
      "김남준 님은 BTS이고 대한민국의 자랑이다!\n",
      "김석진 님은 BTS이고 대한민국의 자랑이다!\n",
      "민윤기 님은 BTS이고 대한민국의 자랑이다!\n"
     ]
    }
   ],
   "source": [
    "# 예제 11\n",
    "\n",
    "data = [\"김남준\", \"김석진\", \"민윤기\"]\n",
    "for i in data :\n",
    "    print(\"%s 님은 BTS이고 대한민국의 자랑이다!\" %i)"
   ]
  },
  {
   "cell_type": "code",
   "execution_count": 74,
   "id": "83f29b51",
   "metadata": {},
   "outputs": [
    {
     "name": "stdout",
     "output_type": "stream",
     "text": [
      "밥 1 그릇 주세요~\n",
      "밥 2 그릇 주세요~\n",
      "밥 3 그릇 주세요~\n",
      "밥 4 그릇 주세요~\n"
     ]
    }
   ],
   "source": [
    "# 예제 12\n",
    "\n",
    "for i in range(1, 5) :\n",
    "    print(\"밥 %s 그릇 주세요~\"%i)"
   ]
  },
  {
   "cell_type": "markdown",
   "id": "58e1cb8a",
   "metadata": {},
   "source": [
    "#### while 반복문 (p.76)"
   ]
  },
  {
   "cell_type": "code",
   "execution_count": 75,
   "id": "f92c523d",
   "metadata": {},
   "outputs": [
    {
     "name": "stdout",
     "output_type": "stream",
     "text": [
      "1\n",
      "3\n",
      "5\n",
      "7\n"
     ]
    }
   ],
   "source": [
    "# 예제 13\n",
    "\n",
    "no1 = 1\n",
    "while no1 < 9 :\n",
    "    print(no1)\n",
    "    no1 += 2"
   ]
  },
  {
   "cell_type": "code",
   "execution_count": 76,
   "id": "97fc19f0",
   "metadata": {},
   "outputs": [
    {
     "name": "stdout",
     "output_type": "stream",
     "text": [
      "2\n",
      "4\n",
      "6\n",
      "8\n",
      "10\n"
     ]
    }
   ],
   "source": [
    "# 예제 14\n",
    "\n",
    "no1 = 0\n",
    "while no1 < 9 :\n",
    "    no1 += 2\n",
    "    print(no1)"
   ]
  },
  {
   "cell_type": "code",
   "execution_count": 78,
   "id": "3a5e2d75",
   "metadata": {},
   "outputs": [
    {
     "name": "stdout",
     "output_type": "stream",
     "text": [
      "새우깡 완전 맛있어요!\n",
      "감자깡 완전 맛있어요!\n"
     ]
    }
   ],
   "source": [
    "# break문과 contunue문\n",
    "# 예제 15\n",
    "\n",
    "snack = [\"새우깡\", \"감자깡\", \"고구마깡\", \"맛동산\", \"짱구\"]\n",
    "for i in snack :\n",
    "    if i == \"고구마깡\" :\n",
    "        break\n",
    "    print(i, \"완전 맛있어요!\")"
   ]
  },
  {
   "cell_type": "code",
   "execution_count": 79,
   "id": "8f9074a1",
   "metadata": {},
   "outputs": [
    {
     "name": "stdout",
     "output_type": "stream",
     "text": [
      "새우깡 과자는 농심\n",
      "감자깡 과자는 농심\n",
      "맛동산 과자는 농심\n",
      "짱구 과자는 농심\n"
     ]
    }
   ],
   "source": [
    "# 예제 16\n",
    "\n",
    "snack = [\"새우깡\", \"감자깡\", \"고구마깡\", \"맛동산\", \"짱구\"]\n",
    "for i in snack :\n",
    "    if i == \"고구마깡\" :\n",
    "        continue\n",
    "    print(i, \"과자는 농심\")"
   ]
  },
  {
   "cell_type": "markdown",
   "id": "d746bf26",
   "metadata": {},
   "source": [
    "### 연습문제(p.80)"
   ]
  },
  {
   "cell_type": "code",
   "execution_count": 85,
   "id": "ee8985bc",
   "metadata": {},
   "outputs": [
    {
     "name": "stdout",
     "output_type": "stream",
     "text": [
      "1. 짜장면 - 5,000원 2. 짬뽕 - 6,000원\n",
      "3. 군만두 - 8,000원 4. 탕수육 - 10,000원\n",
      "\n",
      "1. 위 메뉴 중 주문할 메뉴의 번호를 쓰세요: 4\n",
      "2. 위 메뉴의 주문 수량을 쓰세요: 2\n",
      "주문하신 메뉴는 탕수육 이고 주문 수량은 2 그릇이며 주문금액은 20000 입니다\n",
      "\n",
      "3. 추가 주문을 하시겠습니까? (Y / N) : y\n",
      "1. 짜장면 - 5,000원 2. 짬뽕 - 6,000원\n",
      "3. 군만두 - 8,000원 4. 탕수육 - 10,000원\n",
      "1. 위 메뉴 중 주문할 메뉴의 번호를 쓰세요: 3\n",
      "2. 위 메뉴의 주문 수량을 쓰세요: 4\n",
      "주문하신 메뉴는 군만두 이고 주문 수량은 4 그릇이며 주문금액은 32000 입니다\n"
     ]
    }
   ],
   "source": [
    "for i in \n",
    "    print('1. 짜장면 - 5,000원 2. 짬뽕 - 6,000원')\n",
    "    print('3. 군만두 - 8,000원 4. 탕수육 - 10,000원')\n",
    "    print()\n",
    "\n",
    "    menu1 = int(input('1. 위 메뉴 중 주문할 메뉴의 번호를 쓰세요: '))\n",
    "    menu2 = int(input('2. 위 메뉴의 주문 수량을 쓰세요: '))\n",
    "    price = 0\n",
    "\n",
    "    if menu1 == 1 :\n",
    "        menu_name = '짜장면'\n",
    "        price = 5000\n",
    "        result = menu2 * price\n",
    "    elif menu1 == 2 :\n",
    "        menu_name = '짬뽕'\n",
    "        price = 6000\n",
    "        result = menu2 * price\n",
    "    elif menu1 == 3 :\n",
    "        menu_name = '군만두'\n",
    "        price = 8000\n",
    "        result = menu2 * price\n",
    "    else :\n",
    "        menu_name = '탕수육'\n",
    "        price = 10000\n",
    "        result = menu2 * price\n",
    "\n",
    "    print('주문하신 메뉴는', menu_name,'이고 주문 수량은', menu2,'그릇이며 주문금액은', result, '입니다')\n",
    "    print()\n",
    "\n",
    "    menu3 = input('3. 추가 주문을 하시겠습니까? (Y / N) : ')\n",
    "    print()"
   ]
  },
  {
   "cell_type": "code",
   "execution_count": null,
   "id": "8d106956",
   "metadata": {},
   "outputs": [],
   "source": []
  },
  {
   "cell_type": "code",
   "execution_count": null,
   "id": "f12acc01",
   "metadata": {},
   "outputs": [],
   "source": []
  },
  {
   "cell_type": "code",
   "execution_count": null,
   "id": "64f7d86f",
   "metadata": {},
   "outputs": [],
   "source": []
  },
  {
   "cell_type": "code",
   "execution_count": null,
   "id": "87e495d6",
   "metadata": {},
   "outputs": [],
   "source": []
  },
  {
   "cell_type": "code",
   "execution_count": null,
   "id": "3ebd2cf1",
   "metadata": {},
   "outputs": [],
   "source": []
  },
  {
   "cell_type": "code",
   "execution_count": null,
   "id": "b60e999f",
   "metadata": {},
   "outputs": [],
   "source": []
  },
  {
   "cell_type": "code",
   "execution_count": null,
   "id": "a9b51fc4",
   "metadata": {},
   "outputs": [],
   "source": []
  },
  {
   "cell_type": "code",
   "execution_count": null,
   "id": "9ddb6a15",
   "metadata": {},
   "outputs": [],
   "source": []
  },
  {
   "cell_type": "code",
   "execution_count": null,
   "id": "9e688f96",
   "metadata": {},
   "outputs": [],
   "source": []
  },
  {
   "cell_type": "code",
   "execution_count": null,
   "id": "0f66cd27",
   "metadata": {},
   "outputs": [],
   "source": []
  }
 ],
 "metadata": {
  "kernelspec": {
   "display_name": "Python 3 (ipykernel)",
   "language": "python",
   "name": "python3"
  },
  "language_info": {
   "codemirror_mode": {
    "name": "ipython",
    "version": 3
   },
   "file_extension": ".py",
   "mimetype": "text/x-python",
   "name": "python",
   "nbconvert_exporter": "python",
   "pygments_lexer": "ipython3",
   "version": "3.10.9"
  }
 },
 "nbformat": 4,
 "nbformat_minor": 5
}
