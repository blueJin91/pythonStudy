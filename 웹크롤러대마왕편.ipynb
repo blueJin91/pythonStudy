{
 "cells": [
  {
   "cell_type": "markdown",
   "id": "7877a6ff",
   "metadata": {},
   "source": [
    "## p.43~"
   ]
  },
  {
   "cell_type": "code",
   "execution_count": 1,
   "id": "c4ccaf93",
   "metadata": {},
   "outputs": [
    {
     "name": "stdout",
     "output_type": "stream",
     "text": [
      "2\n"
     ]
    }
   ],
   "source": [
    "# input() 함수로 정보 입력받기\n",
    "\n",
    "txt1 = input()"
   ]
  },
  {
   "cell_type": "code",
   "execution_count": 2,
   "id": "01803907",
   "metadata": {},
   "outputs": [
    {
     "name": "stdout",
     "output_type": "stream",
     "text": [
      "점심 뭐 드셨어용?수라상\n"
     ]
    }
   ],
   "source": [
    "txt2 = input('점심 뭐 드셨어용?')"
   ]
  },
  {
   "cell_type": "code",
   "execution_count": 3,
   "id": "a56c96c8",
   "metadata": {},
   "outputs": [
    {
     "name": "stdout",
     "output_type": "stream",
     "text": [
      "첫번째 주문하실 음식은 무엇인가요?짜장면\n",
      "두번째 주문하실 음식은 무엇인가요?짬뽕\n",
      "첫번째 주문하신 음식은 짜장면 이고 두번째 주문하신 음식은 짬뽕 입니다.\n"
     ]
    }
   ],
   "source": [
    "# 연습문제\n",
    "# 1.\n",
    "\n",
    "food1 = '짜장면'\n",
    "food2 = '짬뽕'\n",
    "\n",
    "input('첫번째 주문하실 음식은 무엇인가요?')\n",
    "input('두번째 주문하실 음식은 무엇인가요?')\n",
    "print('첫번째 주문하신 음식은 %s 이고 두번째 주문하신 음식은 %s 입니다.' %(food1, food2))"
   ]
  },
  {
   "cell_type": "code",
   "execution_count": 4,
   "id": "df516dd1",
   "metadata": {},
   "outputs": [
    {
     "name": "stdout",
     "output_type": "stream",
     "text": [
      "\n",
      "1. 서울 2. 대전 3. 광주 4. 부산\n",
      "5. 경남 6. 경북 7. 충청 8. 제주\n",
      "\n",
      "위 지역 중 정보를 조회할 지역의 번호를 입력하세요: 3\n"
     ]
    }
   ],
   "source": [
    "area_no = input('''\n",
    "1. 서울 2. 대전 3. 광주 4. 부산\n",
    "5. 경남 6. 경북 7. 충청 8. 제주\n",
    "\n",
    "위 지역 중 정보를 조회할 지역의 번호를 입력하세요: ''')"
   ]
  },
  {
   "cell_type": "code",
   "execution_count": 5,
   "id": "cce76142",
   "metadata": {},
   "outputs": [
    {
     "name": "stdout",
     "output_type": "stream",
     "text": [
      "\n",
      "1. 짜장면 2. 울면 3. 짬뽕 4. 깐풍기 5. 칠리새우\n",
      "\n",
      "1. 위 메뉴 중 주문할 메뉴의 번호를 입력하세요 : 3\n",
      "2. 위 메뉴의 주문 수량을 입력하세요 : 2\n",
      "주문하신 메뉴 번호는 3 이고 주문 수량은 2개 입니다\n"
     ]
    }
   ],
   "source": [
    "menu = input('''\n",
    "1. 짜장면 2. 울면 3. 짬뽕 4. 깐풍기 5. 칠리새우\n",
    "\n",
    "1. 위 메뉴 중 주문할 메뉴의 번호를 입력하세요 : ''')\n",
    "\n",
    "menuNum = input('''2. 위 메뉴의 주문 수량을 입력하세요 : ''')  \n",
    "\n",
    "print(f'주문하신 메뉴 번호는 {menu} 이고 주문 수량은 {menuNum}개 입니다')"
   ]
  },
  {
   "cell_type": "code",
   "execution_count": 6,
   "id": "0d786d25",
   "metadata": {},
   "outputs": [
    {
     "name": "stdout",
     "output_type": "stream",
     "text": [
      "i에 저장된 값은 2 입니다\n",
      "j 에 저장된 값은 3 입니다\n"
     ]
    }
   ],
   "source": [
    "# 연산자 사용 방법\n",
    "# Case 1\n",
    "i = 0\n",
    "i = i + 2\n",
    "print(\"i에 저장된 값은 %s 입니다\" %i)\n",
    "\n",
    "# Case 2\n",
    "j = 0\n",
    "j += 3\n",
    "print(\"j 에 저장된 값은 %s 입니다\" %j)"
   ]
  },
  {
   "cell_type": "code",
   "execution_count": 7,
   "id": "7535c3e6",
   "metadata": {},
   "outputs": [
    {
     "name": "stdout",
     "output_type": "stream",
     "text": [
      "첫번째 숫자 입력: 5\n",
      "두번째 숫자 입력: 3\n",
      "첫번째 숫자는 5 이고 두번째 숫자는 3 이며\n",
      "두 숫자의 합은 8 입니다\n"
     ]
    }
   ],
   "source": [
    "# 정수형으로 변환하기 - 변환 후\n",
    "\n",
    "no1 = int( input('첫번째 숫자 입력: ') )\n",
    "no2 = int( input('두번째 숫자 입력: ') )\n",
    "\n",
    "print('''첫번째 숫자는 %s 이고 두번째 숫자는 %s 이며\n",
    "두 숫자의 합은 %s 입니다''' %(no1, no2, no1+no2))"
   ]
  },
  {
   "cell_type": "markdown",
   "id": "16c20cea",
   "metadata": {},
   "source": [
    "## 숫자 타입에서 많이 사용되는 주요 함수 p.51~"
   ]
  },
  {
   "cell_type": "code",
   "execution_count": 8,
   "id": "61b6c7bd",
   "metadata": {},
   "outputs": [
    {
     "name": "stdout",
     "output_type": "stream",
     "text": [
      "원래값 : 3.45678 , 반올림후 값: 3\n",
      "원래값 : 3.56789 , 반올림후 값: 4\n"
     ]
    }
   ],
   "source": [
    "#a) round() - 반올림 함수\n",
    "\n",
    "no1 = 3.45678\n",
    "no2 = 3.56789\n",
    "print(\"원래값 : %s , 반올림후 값: %s\" %(no1, round(no1) ) )\n",
    "print(\"원래값 : %s , 반올림후 값: %s\" %(no2, round(no2) ) )"
   ]
  },
  {
   "cell_type": "code",
   "execution_count": 9,
   "id": "f77c8096",
   "metadata": {},
   "outputs": [
    {
     "name": "stdout",
     "output_type": "stream",
     "text": [
      "반올림하기 전 원래값: 1.6666666666666667\n",
      "소수 첫째자리까지 반올림하기: 1.7\n",
      "소수 둘째자리까지 반올림하기: 1.67\n"
     ]
    }
   ],
   "source": [
    "#a round() - 반올림 함수의 소수점 이하 자리수 지정\n",
    "\n",
    "no1 = 3\n",
    "no2 = 5\n",
    "print(\"반올림하기 전 원래값:\", no2 / no1)\n",
    "print(\"소수 첫째자리까지 반올림하기:\", round(no2 / no1,1) )\n",
    "print(\"소수 둘째자리까지 반올림하기:\", round(no2 / no1,2) )"
   ]
  },
  {
   "cell_type": "code",
   "execution_count": 10,
   "id": "77a62979",
   "metadata": {},
   "outputs": [
    {
     "name": "stdout",
     "output_type": "stream",
     "text": [
      "버림하기 전 원래 값 1.6666666666666667\n",
      "소수 첫째자리까지 버림하기 1\n"
     ]
    }
   ],
   "source": [
    "#b trunc() - 버림 함수\n",
    "import math\n",
    "\n",
    "no1 = 3\n",
    "no2 = 5\n",
    "print(\"버림하기 전 원래 값\", no2 / no1)\n",
    "print(\"소수 첫째자리까지 버림하기\", math.trunc(no2 / no1) )"
   ]
  },
  {
   "cell_type": "code",
   "execution_count": 11,
   "id": "67097f97",
   "metadata": {},
   "outputs": [
    {
     "name": "stdout",
     "output_type": "stream",
     "text": [
      "총 몇 건의 데이터를 수집할까요? :10\n",
      "총 1 페이지까지 데이터를 수집해야 합니다\n"
     ]
    }
   ],
   "source": [
    "#c ceil() - 큰 정수 찾기 함수\n",
    "\n",
    "cnt = int( input(\"총 몇 건의 데이터를 수집할까요? :\") )\n",
    "# 한 페이지에 15건의 게시물이 있다고 가정하고 계산합니다.\n",
    "page_cnt = math.ceil( cnt / 15 )\n",
    "print(\"총 %s 페이지까지 데이터를 수집해야 합니다\" %page_cnt)"
   ]
  },
  {
   "cell_type": "code",
   "execution_count": 13,
   "id": "185d14ef",
   "metadata": {},
   "outputs": [
    {
     "name": "stdout",
     "output_type": "stream",
     "text": [
      "4.9 보다 작으면서 가장 가까운 정수는 4 입니다\n",
      "4.1 보다 작으면서 가장 가까운 정수는 4 입니다\n"
     ]
    }
   ],
   "source": [
    "# 숫자 타입에서 많이 사용되는 주요 함수\n",
    "#d floor() - 작은 정수 찾기 함수\n",
    "import math\n",
    "\n",
    "no1 = 4.9\n",
    "no2 = 4.1\n",
    "\n",
    "print(\"%s 보다 작으면서 가장 가까운 정수는 %s 입니다\" %(no1, math.floor(no1)))\n",
    "print(\"%s 보다 작으면서 가장 가까운 정수는 %s 입니다\" %(no2, math.floor(no2)))      "
   ]
  },
  {
   "cell_type": "code",
   "execution_count": 15,
   "id": "73a12b9e",
   "metadata": {},
   "outputs": [
    {
     "name": "stdout",
     "output_type": "stream",
     "text": [
      "파이썬완전쉽죠?\n",
      "파\n",
      "이\n"
     ]
    }
   ],
   "source": [
    "#2. 문자형 유형\n",
    "# 2) 인덱싱과 슬라이싱\n",
    "\n",
    "str1 = '파이썬완전쉽죠?'\n",
    "print(str1)\n",
    "print(str1[0])\n",
    "print(str1[1])"
   ]
  },
  {
   "cell_type": "code",
   "execution_count": 16,
   "id": "ec0412f0",
   "metadata": {},
   "outputs": [
    {
     "name": "stdout",
     "output_type": "stream",
     "text": [
      "파이썬완전쉽죠?\n",
      "파이썬완\n"
     ]
    }
   ],
   "source": [
    "# 슬라이싱 예제\n",
    "\n",
    "str1 ='파이썬완전쉽죠?'\n",
    "print(str1)\n",
    "\n",
    "print(str1[0:4])"
   ]
  },
  {
   "cell_type": "code",
   "execution_count": 17,
   "id": "4810b98a",
   "metadata": {},
   "outputs": [
    {
     "name": "stdout",
     "output_type": "stream",
     "text": [
      " 완전 쉽죠?\n",
      "파이썬\n"
     ]
    }
   ],
   "source": [
    "# 슬라이싱 예제 2\n",
    "\n",
    "str1 = '파이썬 완전 쉽죠?'\n",
    "\n",
    "print(str1[3:])\n",
    "print(str1[:3])"
   ]
  },
  {
   "cell_type": "markdown",
   "id": "2e308f74",
   "metadata": {},
   "source": [
    "##### 인덱싱과 슬라이싱은 나중에 크롤러 만들때 웹사이트 주소나 파일명 등을 뽑아낼 때 아주 많이 사용"
   ]
  },
  {
   "cell_type": "code",
   "execution_count": 18,
   "id": "3e52a9fd",
   "metadata": {},
   "outputs": [
    {
     "name": "stdout",
     "output_type": "stream",
     "text": [
      "python\n",
      "PYTHON\n"
     ]
    }
   ],
   "source": [
    "# [ lower() 함수 / upper() 함수]\n",
    "# 입력 문자를 소문자/대문자 바꾸기\n",
    "\n",
    "str2 = \"PyThoN\" # 대소문자 섞여 있음\n",
    "print(str2.lower())\n",
    "print(str2.upper())"
   ]
  },
  {
   "cell_type": "code",
   "execution_count": 19,
   "id": "cacdabc4",
   "metadata": {},
   "outputs": [
    {
     "name": "stdout",
     "output_type": "stream",
     "text": [
      "<- 이쪽 끝에 공백 있었어요\n",
      "오른쪽 끝에 공백 있었어요->\n",
      "<- 양쪽 끝에 공백 있었어요->\n"
     ]
    }
   ],
   "source": [
    "# [ lstrip() / rstrip() / strip() ]\n",
    "# 문자열에서 좌/우 공백 제거하기\n",
    "\n",
    "str3 = \"    <- 이쪽 끝에 공백 있었어요\"\n",
    "str4 = \"오른쪽 끝에 공백 있었어요->    \"\n",
    "str5 = \"    <- 양쪽 끝에 공백 있었어요->   \"\n",
    "\n",
    "print( str3.lstrip() )\n",
    "print( str4.rstrip() )\n",
    "print( str5.strip() )"
   ]
  },
  {
   "cell_type": "code",
   "execution_count": 21,
   "id": "07b9a0eb",
   "metadata": {},
   "outputs": [
    {
     "name": "stdout",
     "output_type": "stream",
     "text": [
      "먹태깡도 해산물 인가요?\n"
     ]
    }
   ],
   "source": [
    "#[ replace() ]\n",
    "str6 = '새우깡도 해산물 인가요?'\n",
    "print(str6.replace('새우깡', '먹태깡'))"
   ]
  },
  {
   "cell_type": "markdown",
   "id": "3cf368c4",
   "metadata": {},
   "source": [
    "위 함수는 웹크롤러 만들 때 특정 기호나 문자를 제거할 때 아주 많이 사용!"
   ]
  },
  {
   "cell_type": "code",
   "execution_count": 22,
   "id": "fd65a907",
   "metadata": {},
   "outputs": [
    {
     "name": "stdout",
     "output_type": "stream",
     "text": [
      "['02', '1234', '5678']\n",
      "['02', '1234-5678']\n"
     ]
    }
   ],
   "source": [
    "# [ split() ]\n",
    "\n",
    "tel = '02-1234-5678'\n",
    "print(tel.split('-'))\n",
    "print(tel.split('-',1))"
   ]
  },
  {
   "cell_type": "markdown",
   "id": "8556ff07",
   "metadata": {},
   "source": [
    "위 함수는 웹크롤러 만들 때 URL 주소를 찾을 때 아주 많이 사용!"
   ]
  },
  {
   "cell_type": "code",
   "execution_count": 23,
   "id": "f4dff0c3",
   "metadata": {},
   "outputs": [
    {
     "name": "stdout",
     "output_type": "stream",
     "text": [
      "10\n",
      "3\n"
     ]
    }
   ],
   "source": [
    "#[ len() ]\n",
    "\n",
    "str1 = '파이썬 완전 좋아요'\n",
    "str2 = ['파이썬', '웹크롤러', '가치랩스']\n",
    "\n",
    "print(len(str1))\n",
    "print(len(str2))"
   ]
  },
  {
   "cell_type": "markdown",
   "id": "992fe824",
   "metadata": {},
   "source": [
    "리스트에 있는 항목의 개수(행의 수)도 len()함수로 확인"
   ]
  },
  {
   "cell_type": "code",
   "execution_count": 24,
   "id": "5166c98e",
   "metadata": {},
   "outputs": [
    {
     "name": "stdout",
     "output_type": "stream",
     "text": [
      "================================================================================\n",
      "문자열로 연산하기 실습\n",
      "++++++++++++++++++++++++++++++++++++++++++++++++++++++++++++++++++++++++++++++++\n"
     ]
    }
   ],
   "source": [
    "# 문자열로 환산하기\n",
    "\n",
    "print(\"=\" *80)\n",
    "print(\"문자열로 연산하기 실습\")\n",
    "print(\"+\" *80)"
   ]
  },
  {
   "cell_type": "markdown",
   "id": "05fd5c1d",
   "metadata": {},
   "source": [
    "주석이나 특정표시 할 때 많이 사용!"
   ]
  },
  {
   "cell_type": "code",
   "execution_count": null,
   "id": "43ea2fc0",
   "metadata": {},
   "outputs": [],
   "source": []
  },
  {
   "cell_type": "code",
   "execution_count": null,
   "id": "b58435af",
   "metadata": {},
   "outputs": [],
   "source": []
  },
  {
   "cell_type": "code",
   "execution_count": null,
   "id": "a7bb877f",
   "metadata": {},
   "outputs": [],
   "source": []
  },
  {
   "cell_type": "code",
   "execution_count": null,
   "id": "9210008c",
   "metadata": {},
   "outputs": [],
   "source": []
  },
  {
   "cell_type": "code",
   "execution_count": null,
   "id": "8f20c225",
   "metadata": {},
   "outputs": [],
   "source": []
  }
 ],
 "metadata": {
  "kernelspec": {
   "display_name": "Python 3 (ipykernel)",
   "language": "python",
   "name": "python3"
  },
  "language_info": {
   "codemirror_mode": {
    "name": "ipython",
    "version": 3
   },
   "file_extension": ".py",
   "mimetype": "text/x-python",
   "name": "python",
   "nbconvert_exporter": "python",
   "pygments_lexer": "ipython3",
   "version": "3.10.9"
  }
 },
 "nbformat": 4,
 "nbformat_minor": 5
}
